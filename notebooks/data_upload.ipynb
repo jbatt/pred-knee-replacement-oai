{
 "cells": [
  {
   "cell_type": "code",
   "execution_count": 43,
   "metadata": {},
   "outputs": [],
   "source": [
    "# Import libraries\n",
    "import paramiko\n",
    "import os\n",
    "import glob"
   ]
  },
  {
   "cell_type": "code",
   "execution_count": 44,
   "metadata": {},
   "outputs": [],
   "source": [
    "# Set my JADE home path\n",
    "JADE_HOME_PATH = '/jmain02/home/J2AD014/mtc13/jjb87-mtc13/'\n",
    "\n",
    "# Set my local data path\n",
    "LOCAL_DATA_DIRECTORY = 'C:/Users/james/OneDrive - University of Leeds/1. Projects/1.1 PhD/1.1.1 Project/Data/OAI Subset/'"
   ]
  },
  {
   "cell_type": "code",
   "execution_count": 17,
   "metadata": {},
   "outputs": [],
   "source": [
    "# Create ssh client object\n",
    "ssh = paramiko.SSHClient()\n",
    "\n",
    "# Known hostry policy\n",
    "ssh.set_missing_host_key_policy(paramiko.AutoAddPolicy())\n",
    "\n",
    "# Client connect\n",
    "ssh.connect(hostname='jade2.hartree.stfc.ac.uk', username='jjb87-mtc13', key_filename='C:/Users/james/Documents/hartree/ssh/mykey_priv.ppk')"
   ]
  },
  {
   "cell_type": "code",
   "execution_count": 18,
   "metadata": {},
   "outputs": [],
   "source": [
    "# Create an sftp client\n",
    "sftp_client = ssh.open_sftp()"
   ]
  },
  {
   "cell_type": "code",
   "execution_count": 35,
   "metadata": {},
   "outputs": [],
   "source": [
    "# Change directory on JADE using sftp client\n",
    "sftp_client.chdir(JADE_HOME_PATH)\n",
    "\n",
    "# Get current working directory\n",
    "print(sftp_client.getcwd())\n",
    "\n",
    "# List remote directories\n",
    "print(sftp_client.listdir(JADE_HOME_PATH))"
   ]
  },
  {
   "cell_type": "code",
   "execution_count": 29,
   "metadata": {},
   "outputs": [
    {
     "name": "stdout",
     "output_type": "stream",
     "text": [
      "\u001b[1;31mSignature:\u001b[0m \u001b[0msftp_client\u001b[0m\u001b[1;33m.\u001b[0m\u001b[0mput\u001b[0m\u001b[1;33m(\u001b[0m\u001b[0mlocalpath\u001b[0m\u001b[1;33m,\u001b[0m \u001b[0mremotepath\u001b[0m\u001b[1;33m,\u001b[0m \u001b[0mcallback\u001b[0m\u001b[1;33m=\u001b[0m\u001b[1;32mNone\u001b[0m\u001b[1;33m,\u001b[0m \u001b[0mconfirm\u001b[0m\u001b[1;33m=\u001b[0m\u001b[1;32mTrue\u001b[0m\u001b[1;33m)\u001b[0m\u001b[1;33m\u001b[0m\u001b[1;33m\u001b[0m\u001b[0m\n",
      "\u001b[1;31mDocstring:\u001b[0m\n",
      "Copy a local file (``localpath``) to the SFTP server as ``remotepath``.\n",
      "Any exception raised by operations will be passed through.  This\n",
      "method is primarily provided as a convenience.\n",
      "\n",
      "The SFTP operations use pipelining for speed.\n",
      "\n",
      ":param str localpath: the local file to copy\n",
      ":param str remotepath: the destination path on the SFTP server. Note\n",
      "    that the filename should be included. Only specifying a directory\n",
      "    may result in an error.\n",
      ":param callable callback:\n",
      "    optional callback function (form: ``func(int, int)``) that accepts\n",
      "    the bytes transferred so far and the total bytes to be transferred\n",
      ":param bool confirm:\n",
      "    whether to do a stat() on the file afterwards to confirm the file\n",
      "    size\n",
      "\n",
      ":return: an `.SFTPAttributes` object containing attributes about the\n",
      "    given file\n",
      "\n",
      ".. versionadded:: 1.4\n",
      ".. versionchanged:: 1.7.4\n",
      "    ``callback`` and rich attribute return value added.\n",
      ".. versionchanged:: 1.7.7\n",
      "    ``confirm`` param added.\n",
      "\u001b[1;31mFile:\u001b[0m      c:\\users\\james\\miniconda3\\envs\\pred-knee-replacement-oai\\lib\\site-packages\\paramiko\\sftp_client.py\n",
      "\u001b[1;31mType:\u001b[0m      method"
     ]
    }
   ],
   "source": [
    "sftp_client.put?"
   ]
  },
  {
   "cell_type": "code",
   "execution_count": 39,
   "metadata": {},
   "outputs": [
    {
     "data": {
      "text/plain": [
       "<SFTPAttributes: [ size=856185380 uid=10014 gid=31568 mode=0o100644 atime=1721837028 mtime=1721837170 ]>"
      ]
     },
     "execution_count": 39,
     "metadata": {},
     "output_type": "execute_result"
    }
   ],
   "source": [
    "sftp_client.put(LOCAL_DATA_DIRECTORY + 'test_copy.tar.gz', JADE_HOME_PATH + 'test_copy.tar.gz')"
   ]
  },
  {
   "cell_type": "code",
   "execution_count": null,
   "metadata": {},
   "outputs": [],
   "source": [
    "# Creating zip files from images\n",
    "\n",
    "# Create a zip file\n",
    "myzipfile = ZipFile(\"12m_temp_oai_scans.bz2\", mode='a', compression=zipfile.ZIP_BZIP2, compresslevel=1)\n",
    "\n",
    "# For each path in folders\n",
    "for mod_path in folders:\n",
    "    \n",
    "    # Try and list the file in the folder\n",
    "    try:\n",
    "        files = os.listdir(location+mod_path)\n",
    "    \n",
    "    # If this fails, print the files there's an issue with\n",
    "    except:\n",
    "        print('Issue with ', location+mod_path)\n",
    "        continue\n",
    "    \n",
    "    # Make a directory named after your path name\n",
    "    myzipfile.mkdir(mod_path.replace('/', '_'))\n",
    "    \n",
    "    # For each file, write \n",
    "    for f in files:\n",
    "        myzipfile.write(location+mod_path+'/'+f, mod_path.replace('/', '_')+'/'+f)\n",
    "myzipfile.close()"
   ]
  },
  {
   "cell_type": "code",
   "execution_count": 40,
   "metadata": {},
   "outputs": [],
   "source": [
    "ssh.close()"
   ]
  }
 ],
 "metadata": {
  "kernelspec": {
   "display_name": "pred-knee-replacement-oai",
   "language": "python",
   "name": "python3"
  },
  "language_info": {
   "codemirror_mode": {
    "name": "ipython",
    "version": 3
   },
   "file_extension": ".py",
   "mimetype": "text/x-python",
   "name": "python",
   "nbconvert_exporter": "python",
   "pygments_lexer": "ipython3",
   "version": "3.12.3"
  }
 },
 "nbformat": 4,
 "nbformat_minor": 2
}
