{
 "cells": [
  {
   "cell_type": "code",
   "execution_count": 1,
   "metadata": {},
   "outputs": [],
   "source": [
    "# Import libraries\n",
    "\n",
    "import os\n",
    "import sys\n",
    "import glob\n",
    "\n",
    "import torch\n",
    "import torch.nn as nn\n",
    "import torch.optim as optim\n",
    "from torch.utils.data import DataLoader\n",
    "import torchvision.transforms as transforms\n",
    "\n",
    "import numpy as np\n",
    "from datetime import datetime\n",
    "\n",
    "import wandb  # Import Weights and Biases for tracking model training\n",
    "\n",
    "# Include src directory in path to import custom modules\n",
    "if '..\\\\src' not in sys.path:\n",
    "    sys.path.append('..\\\\src')\n",
    "\n",
    "from models.model_unet import UNet3D\n",
    "from utils.utils import read_hyperparams\n",
    "from data.datasets import KneeSegDataset3D\n",
    "from models.evaluation import bce_dice_loss #, dice_coefficient, batch_dice_coeff\n",
    "from models.train import train_loop, validation_loop \n"
   ]
  },
  {
   "cell_type": "code",
   "execution_count": 2,
   "metadata": {},
   "outputs": [
    {
     "data": {
      "text/plain": [
       "['c:\\\\Users\\\\james\\\\Documents\\\\projects\\\\pred-knee-replacement-oai\\\\notebooks',\n",
       " 'c:\\\\Users\\\\james\\\\miniconda3\\\\envs\\\\pred-knee-replacement-oai\\\\python312.zip',\n",
       " 'c:\\\\Users\\\\james\\\\miniconda3\\\\envs\\\\pred-knee-replacement-oai\\\\DLLs',\n",
       " 'c:\\\\Users\\\\james\\\\miniconda3\\\\envs\\\\pred-knee-replacement-oai\\\\Lib',\n",
       " 'c:\\\\Users\\\\james\\\\miniconda3\\\\envs\\\\pred-knee-replacement-oai',\n",
       " '',\n",
       " 'c:\\\\Users\\\\james\\\\miniconda3\\\\envs\\\\pred-knee-replacement-oai\\\\Lib\\\\site-packages',\n",
       " 'c:\\\\Users\\\\james\\\\miniconda3\\\\envs\\\\pred-knee-replacement-oai\\\\Lib\\\\site-packages\\\\win32',\n",
       " 'c:\\\\Users\\\\james\\\\miniconda3\\\\envs\\\\pred-knee-replacement-oai\\\\Lib\\\\site-packages\\\\win32\\\\lib',\n",
       " 'c:\\\\Users\\\\james\\\\miniconda3\\\\envs\\\\pred-knee-replacement-oai\\\\Lib\\\\site-packages\\\\Pythonwin',\n",
       " '..\\\\src']"
      ]
     },
     "execution_count": 2,
     "metadata": {},
     "output_type": "execute_result"
    }
   ],
   "source": [
    "sys.path"
   ]
  },
  {
   "cell_type": "code",
   "execution_count": 3,
   "metadata": {},
   "outputs": [
    {
     "data": {
      "text/plain": [
       "'c:\\\\Users\\\\james\\\\Documents\\\\projects\\\\pred-knee-replacement-oai\\\\notebooks'"
      ]
     },
     "execution_count": 3,
     "metadata": {},
     "output_type": "execute_result"
    }
   ],
   "source": [
    "os.getcwd()"
   ]
  },
  {
   "cell_type": "code",
   "execution_count": 4,
   "metadata": {},
   "outputs": [],
   "source": [
    "# Define data directory\n",
    "DATA_DIRECTORY = 'C:/Users/james/OneDrive - University of Leeds/1. Projects/1.1 PhD/1.1.1 Project/Data/OAI Subset'\n",
    "DATA_TRAIN_DIRECTORY = 'C:/Users/james/OneDrive - University of Leeds/1. Projects/1.1 PhD/1.1.1 Project/Data/OAI Subset/train'\n",
    "DATA_VALID_DIRECTORY = 'C:/Users/james/OneDrive - University of Leeds/1. Projects/1.1 PhD/1.1.1 Project/Data/OAI Subset/valid'\n",
    "\n",
    "DATA_RAW_DIRECTORY = '../data/raw'\n",
    "DATA_PROCESSED_DIRECTORY = '../data/processed'\n",
    "DATA_INTERIM_DIRECTORY = '../data/processed'\n",
    "\n",
    "RESULTS_PATH = '../results'\n",
    "MODELS_PATH = '../models'\n",
    "MODELS_CHECKPOINTS_PATH = '../models/checkpoints'\n"
   ]
  },
  {
   "cell_type": "code",
   "execution_count": 5,
   "metadata": {},
   "outputs": [],
   "source": [
    "# Set Device\n",
    "device = torch.device('cuda' if torch.cuda.is_available() else 'cpu')"
   ]
  },
  {
   "cell_type": "code",
   "execution_count": 6,
   "metadata": {},
   "outputs": [
    {
     "name": "stdout",
     "output_type": "stream",
     "text": [
      "{'run_name': 'high_lr_40_epoch', 'l_rate': 0.001, 'num_epochs': 40.0, 'batch_size': 4.0, 'threshold': 0.5, 'transforms': 'True'}\n"
     ]
    },
    {
     "name": "stderr",
     "output_type": "stream",
     "text": [
      "<>:2: SyntaxWarning: invalid escape sequence '\\s'\n",
      "<>:2: SyntaxWarning: invalid escape sequence '\\s'\n",
      "C:\\Users\\james\\AppData\\Local\\Temp\\ipykernel_140024\\3746911915.py:2: SyntaxWarning: invalid escape sequence '\\s'\n",
      "  hyperparams = read_hyperparams('..\\src\\models\\hyperparams_unet.txt')\n"
     ]
    }
   ],
   "source": [
    "# Read in hyperparams\n",
    "hyperparams = read_hyperparams('..\\src\\models\\hyperparams_unet.txt')\n",
    "print(hyperparams)\n"
   ]
  },
  {
   "cell_type": "code",
   "execution_count": 7,
   "metadata": {},
   "outputs": [],
   "source": [
    "# Get paths for training and and validation data\n",
    "# Get the paths\n",
    "\n",
    "# Return file name from filepath\n",
    "train_paths = np.array([os.path.basename(i).split('.')[0] for i in glob.glob(f'{DATA_TRAIN_DIRECTORY}/*.im')])\n",
    "val_paths = np.array([os.path.basename(i).split('.')[0] for i in glob.glob(f'{DATA_VALID_DIRECTORY}/*.im')])"
   ]
  },
  {
   "cell_type": "code",
   "execution_count": 8,
   "metadata": {},
   "outputs": [],
   "source": [
    "# Set transforms\n",
    "\n",
    "if hyperparams['transforms'] == \"True\":\n",
    "    # Let's try a horizontal flip transform\n",
    "    transform = transforms.functional.hflip\n",
    "else:\n",
    "    transform = None"
   ]
  },
  {
   "cell_type": "code",
   "execution_count": 9,
   "metadata": {},
   "outputs": [],
   "source": [
    "# Define PyTorch datasets and dataloader\n",
    "\n",
    "# Define datasets\n",
    "train_dataset = KneeSegDataset3D(train_paths, DATA_DIRECTORY, transform=transform)\n",
    "validation_dataset = KneeSegDataset3D(val_paths, DATA_DIRECTORY, split='valid')\n",
    "\n",
    "# Define dataloaders\n",
    "train_dataloader = DataLoader(train_dataset, batch_size=int(hyperparams['batch_size']), num_workers = 1, shuffle=True)\n",
    "validation_dataloader = DataLoader(validation_dataset, batch_size=2, num_workers = 1, shuffle=False)"
   ]
  },
  {
   "cell_type": "code",
   "execution_count": 10,
   "metadata": {},
   "outputs": [],
   "source": [
    "a = iter(train_dataloader)"
   ]
  },
  {
   "cell_type": "code",
   "execution_count": 11,
   "metadata": {},
   "outputs": [],
   "source": [
    "test = next(a)"
   ]
  },
  {
   "cell_type": "code",
   "execution_count": 12,
   "metadata": {},
   "outputs": [
    {
     "data": {
      "text/plain": [
       "torch.Size([4, 1, 200, 256, 160])"
      ]
     },
     "execution_count": 12,
     "metadata": {},
     "output_type": "execute_result"
    }
   ],
   "source": [
    "test[0].shape"
   ]
  },
  {
   "cell_type": "code",
   "execution_count": 13,
   "metadata": {},
   "outputs": [],
   "source": [
    "# Create model\n",
    "model = UNet3D(1, 1, 16)"
   ]
  },
  {
   "cell_type": "code",
   "execution_count": 14,
   "metadata": {},
   "outputs": [],
   "source": [
    "# Specifiy criterion and optimiser\n",
    "loss_fn = bce_dice_loss\n",
    "l_rate = hyperparams['l_rate']\n",
    "optimizer = optim.Adam(model.parameters(), lr=l_rate)"
   ]
  },
  {
   "cell_type": "code",
   "execution_count": 15,
   "metadata": {},
   "outputs": [],
   "source": [
    "# How long to train for?\n",
    "num_epochs = int(hyperparams['num_epochs'])"
   ]
  },
  {
   "cell_type": "code",
   "execution_count": 29,
   "metadata": {},
   "outputs": [],
   "source": [
    "# Threshold for predicted segmentation mask\n",
    "pred_threshold = hyperparams['threshold']"
   ]
  },
  {
   "cell_type": "code",
   "execution_count": 18,
   "metadata": {},
   "outputs": [
    {
     "name": "stderr",
     "output_type": "stream",
     "text": [
      "Failed to detect the name of this notebook, you can set it manually with the WANDB_NOTEBOOK_NAME environment variable to enable code saving.\n"
     ]
    },
    {
     "name": "stderr",
     "output_type": "stream",
     "text": [
      "\u001b[34m\u001b[1mwandb\u001b[0m: Currently logged in as: \u001b[33mjamesbattye0\u001b[0m (\u001b[33mjamesbattye0-university-of-leeds7616\u001b[0m). Use \u001b[1m`wandb login --relogin`\u001b[0m to force relogin\n"
     ]
    },
    {
     "data": {
      "text/html": [
       "wandb version 0.17.5 is available!  To upgrade, please run:\n",
       " $ pip install wandb --upgrade"
      ],
      "text/plain": [
       "<IPython.core.display.HTML object>"
      ]
     },
     "metadata": {},
     "output_type": "display_data"
    },
    {
     "data": {
      "text/html": [
       "Tracking run with wandb version 0.16.6"
      ],
      "text/plain": [
       "<IPython.core.display.HTML object>"
      ]
     },
     "metadata": {},
     "output_type": "display_data"
    },
    {
     "data": {
      "text/html": [
       "Run data is saved locally in <code>c:\\Users\\james\\Documents\\projects\\pred-knee-replacement-oai\\notebooks\\wandb\\run-20240723_155507-k7p9adjr</code>"
      ],
      "text/plain": [
       "<IPython.core.display.HTML object>"
      ]
     },
     "metadata": {},
     "output_type": "display_data"
    },
    {
     "data": {
      "text/html": [
       "Syncing run <strong><a href='https://wandb.ai/jamesbattye0-university-of-leeds7616/oai_subset_knee_seg_unet/runs/k7p9adjr' target=\"_blank\">dark-blaze-5</a></strong> to <a href='https://wandb.ai/jamesbattye0-university-of-leeds7616/oai_subset_knee_seg_unet' target=\"_blank\">Weights & Biases</a> (<a href='https://wandb.me/run' target=\"_blank\">docs</a>)<br/>"
      ],
      "text/plain": [
       "<IPython.core.display.HTML object>"
      ]
     },
     "metadata": {},
     "output_type": "display_data"
    },
    {
     "data": {
      "text/html": [
       " View project at <a href='https://wandb.ai/jamesbattye0-university-of-leeds7616/oai_subset_knee_seg_unet' target=\"_blank\">https://wandb.ai/jamesbattye0-university-of-leeds7616/oai_subset_knee_seg_unet</a>"
      ],
      "text/plain": [
       "<IPython.core.display.HTML object>"
      ]
     },
     "metadata": {},
     "output_type": "display_data"
    },
    {
     "data": {
      "text/html": [
       " View run at <a href='https://wandb.ai/jamesbattye0-university-of-leeds7616/oai_subset_knee_seg_unet/runs/k7p9adjr' target=\"_blank\">https://wandb.ai/jamesbattye0-university-of-leeds7616/oai_subset_knee_seg_unet/runs/k7p9adjr</a>"
      ],
      "text/plain": [
       "<IPython.core.display.HTML object>"
      ]
     },
     "metadata": {},
     "output_type": "display_data"
    },
    {
     "data": {
      "text/html": [
       "<button onClick=\"this.nextSibling.style.display='block';this.style.display='none';\">Display W&B run</button><iframe src='https://wandb.ai/jamesbattye0-university-of-leeds7616/oai_subset_knee_seg_unet/runs/k7p9adjr?jupyter=true' style='border:none;width:100%;height:420px;display:none;'></iframe>"
      ],
      "text/plain": [
       "<wandb.sdk.wandb_run.Run at 0x1c3531ab620>"
      ]
     },
     "execution_count": 18,
     "metadata": {},
     "output_type": "execute_result"
    }
   ],
   "source": [
    "# start a new wandb run to track this script - LOG IN ON CONSOLE BEFORE RUNNING\n",
    "wandb.init(\n",
    "    # set the wandb project where this run will be logged\n",
    "    project=\"oai_subset_knee_seg_unet\",\n",
    "    \n",
    "    # track hyperparameters and run metadata\n",
    "    config={\n",
    "    \"learning_rate\": l_rate,\n",
    "    \"architecture\": \"3D UNet\",\n",
    "    \"kernel_num\": 16,\n",
    "    \"dataset\": \"IWOAI\",\n",
    "    \"epochs\": num_epochs,\n",
    "    \"threshold\": threshold,\n",
    "    }\n",
    ")"
   ]
  },
  {
   "cell_type": "code",
   "execution_count": 19,
   "metadata": {},
   "outputs": [],
   "source": [
    "model.to(device)\n",
    "\n",
    "# use multiple gpu in parallel if available\n",
    "if torch.cuda.device_count() > 1:\n",
    "    model = nn.DataParallel(model)"
   ]
  },
  {
   "cell_type": "code",
   "execution_count": 30,
   "metadata": {},
   "outputs": [
    {
     "name": "stdout",
     "output_type": "stream",
     "text": [
      "TRAINING MODEL \n",
      "------------------------\n",
      "Epoch 1\n",
      "-------------------------------\n"
     ]
    }
   ],
   "source": [
    "# Define model training fucntion using previously defined training and validation loops\n",
    "\n",
    "# Capture training start time for output data files\n",
    "train_start = str(datetime.now())\n",
    "train_start_file = train_start.replace(\" \", \"-\").replace(\".\",\"\").replace(\":\",\"_\")\n",
    "\n",
    "# # Initialise early stopping criteria\n",
    "# early_stopper = EarlyStopper(patience=4, min_delta=0.02)\n",
    "\n",
    "# Initialise training stats \n",
    "# stats = {\"epoch\": [], \"train_loss\": [], \"validation_loss\": [], \"train_accuracy\": [], \"validation_accuracy\": []}\n",
    "\n",
    "min_validation_loss = float('inf')\n",
    "\n",
    "print(f\"TRAINING MODEL \\n-------------------------------\")\n",
    "\n",
    "for epoch in range(num_epochs):\n",
    "    print(f\"Epoch {epoch+1}\\n-------------------------------\")\n",
    "\n",
    "    train_loss, avg_train_dice = train_loop(train_dataloader, device, model, loss_fn, optimizer, pred_threshold)\n",
    "    validation_loss, avg_validation_dice = validation_loop(validation_dataloader, device, model, loss_fn, pred_threshold)\n",
    "\n",
    "    # log to wandb\n",
    "    wandb.log({\"Train Loss\": train_loss, \"Train Dice Score\": avg_train_dice,\n",
    "                  \"Val Loss\": validation_loss, \"Val Dice Score\": avg_validation_dice})\n",
    "    \n",
    "    # save as best if val loss is lowest so far\n",
    "    if validation_loss < min_validation_loss:\n",
    "        print(f'Validation Loss Decreased({min_validation_loss:.6f}--->{validation_loss:.6f}) \\t Saving The Model')\n",
    "        model_path = f\"{MODELS_CHECKPOINTS_PATH}/{hyperparams['run_name']}_best_E.pth\"\n",
    "        torch.save(model.state_dict(), model_path)\n",
    "        print(f\"Best epoch yet: {epoch}\")\n",
    "        \n",
    "        # reset min as current\n",
    "        min_validation_loss = validation_loss\n",
    "\n",
    "\n",
    "# Once training is done, save final model\n",
    "model_path = f\"{MODELS_CHECKPOINTS_PATH}/{hyperparams['run_name']}.pth\"\n",
    "torch.save(model.state_dict(), model_path)\n",
    "\n",
    "wandb.finish()\n",
    "\n",
    "\n",
    "print(\"Done!\")\n"
   ]
  },
  {
   "cell_type": "code",
   "execution_count": null,
   "metadata": {},
   "outputs": [],
   "source": []
  }
 ],
 "metadata": {
  "kernelspec": {
   "display_name": "pred-knee-replacement-oai",
   "language": "python",
   "name": "python3"
  },
  "language_info": {
   "codemirror_mode": {
    "name": "ipython",
    "version": 3
   },
   "file_extension": ".py",
   "mimetype": "text/x-python",
   "name": "python",
   "nbconvert_exporter": "python",
   "pygments_lexer": "ipython3",
   "version": "3.12.3"
  }
 },
 "nbformat": 4,
 "nbformat_minor": 2
}
