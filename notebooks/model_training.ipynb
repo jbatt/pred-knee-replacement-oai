{
 "cells": [
  {
   "cell_type": "code",
   "execution_count": 83,
   "metadata": {},
   "outputs": [],
   "source": [
    "# Import libraries\n",
    "\n",
    "import os\n",
    "import sys\n",
    "import glob\n",
    "\n",
    "import torch\n",
    "import torch.nn as nn\n",
    "import torch.optim as optim\n",
    "from torch.utils.data import DataLoader\n",
    "import torchvision.transforms as transforms\n",
    "\n",
    "import numpy as np\n",
    "\n",
    "import wandb\n",
    "\n",
    "# Include src directory in path to import custom modules\n",
    "if '..\\\\src' not in sys.path:\n",
    "    sys.path.append('..\\\\src')\n",
    "\n",
    "from models.model_unet import UNet3D\n",
    "from utils.utils import read_hyperparams\n",
    "from data.datasets import KneeSegDataset3D\n",
    "from models.evaluation import bce_dice_loss #, dice_coefficient, batch_dice_coeff\n"
   ]
  },
  {
   "cell_type": "code",
   "execution_count": 66,
   "metadata": {},
   "outputs": [
    {
     "data": {
      "text/plain": [
       "['c:\\\\Users\\\\james\\\\Documents\\\\projects\\\\pred-knee-replacement-oai\\\\notebooks',\n",
       " 'c:\\\\Users\\\\james\\\\miniconda3\\\\envs\\\\pred-knee-replacement-oai\\\\python312.zip',\n",
       " 'c:\\\\Users\\\\james\\\\miniconda3\\\\envs\\\\pred-knee-replacement-oai\\\\DLLs',\n",
       " 'c:\\\\Users\\\\james\\\\miniconda3\\\\envs\\\\pred-knee-replacement-oai\\\\Lib',\n",
       " 'c:\\\\Users\\\\james\\\\miniconda3\\\\envs\\\\pred-knee-replacement-oai',\n",
       " '',\n",
       " 'c:\\\\Users\\\\james\\\\miniconda3\\\\envs\\\\pred-knee-replacement-oai\\\\Lib\\\\site-packages',\n",
       " 'c:\\\\Users\\\\james\\\\miniconda3\\\\envs\\\\pred-knee-replacement-oai\\\\Lib\\\\site-packages\\\\win32',\n",
       " 'c:\\\\Users\\\\james\\\\miniconda3\\\\envs\\\\pred-knee-replacement-oai\\\\Lib\\\\site-packages\\\\win32\\\\lib',\n",
       " 'c:\\\\Users\\\\james\\\\miniconda3\\\\envs\\\\pred-knee-replacement-oai\\\\Lib\\\\site-packages\\\\Pythonwin',\n",
       " '..\\\\src',\n",
       " '..\\\\src',\n",
       " '..\\\\src']"
      ]
     },
     "execution_count": 66,
     "metadata": {},
     "output_type": "execute_result"
    }
   ],
   "source": [
    "sys.path"
   ]
  },
  {
   "cell_type": "code",
   "execution_count": 2,
   "metadata": {},
   "outputs": [
    {
     "data": {
      "text/plain": [
       "'c:\\\\Users\\\\james\\\\Documents\\\\projects\\\\pred-knee-replacement-oai\\\\notebooks'"
      ]
     },
     "execution_count": 2,
     "metadata": {},
     "output_type": "execute_result"
    }
   ],
   "source": [
    "os.getcwd()"
   ]
  },
  {
   "cell_type": "code",
   "execution_count": 4,
   "metadata": {},
   "outputs": [],
   "source": [
    "# Set Device\n",
    "device = torch.device('cuda' if torch.cuda.is_available() else 'cpu')"
   ]
  },
  {
   "cell_type": "code",
   "execution_count": 5,
   "metadata": {},
   "outputs": [
    {
     "name": "stdout",
     "output_type": "stream",
     "text": [
      "{'run_name': 'high_lr_40_epoch', 'l_rate': 0.001, 'num_epochs': 40.0, 'batch_size': 4.0, 'threshold': 0.5, 'transforms': 'True'}\n"
     ]
    },
    {
     "name": "stderr",
     "output_type": "stream",
     "text": [
      "<>:2: SyntaxWarning: invalid escape sequence '\\s'\n",
      "<>:2: SyntaxWarning: invalid escape sequence '\\s'\n",
      "C:\\Users\\james\\AppData\\Local\\Temp\\ipykernel_24948\\3746911915.py:2: SyntaxWarning: invalid escape sequence '\\s'\n",
      "  hyperparams = read_hyperparams('..\\src\\models\\hyperparams_unet.txt')\n"
     ]
    }
   ],
   "source": [
    "# Read in hyperparams\n",
    "hyperparams = read_hyperparams('..\\src\\models\\hyperparams_unet.txt')\n",
    "print(hyperparams)\n"
   ]
  },
  {
   "cell_type": "code",
   "execution_count": 24,
   "metadata": {},
   "outputs": [],
   "source": [
    "# Define data directory\n",
    "DATA_DIRECTORY = 'C:/Users/james/OneDrive - University of Leeds/1. Projects/1.1 PhD/1.1.1 Project/Data/OAI Subset'\n",
    "DATA_TRAIN_DIRECTORY = 'C:/Users/james/OneDrive - University of Leeds/1. Projects/1.1 PhD/1.1.1 Project/Data/OAI Subset/train'\n",
    "DATA_VALID_DIRECTORY = 'C:/Users/james/OneDrive - University of Leeds/1. Projects/1.1 PhD/1.1.1 Project/Data/OAI Subset/valid'\n",
    "\n",
    "DATA_RAW_DIRECTORY = '../data/raw'\n",
    "DATA_PROCESSED_DIRECTORY = '../data/processed'\n",
    "DATA_INTERIM_DIRECTORY = '../data/processed'"
   ]
  },
  {
   "cell_type": "code",
   "execution_count": 17,
   "metadata": {},
   "outputs": [
    {
     "data": {
      "text/plain": [
       "'valid_014_V00.seg'"
      ]
     },
     "execution_count": 17,
     "metadata": {},
     "output_type": "execute_result"
    }
   ],
   "source": [
    "os.path.basename('C:/Users/james/OneDrive - University of Leeds/1. Projects/1.1 PhD/1.1.1 Project/Data/OAI Subset/valid/valid/valid_014_V00.seg')"
   ]
  },
  {
   "cell_type": "code",
   "execution_count": 22,
   "metadata": {},
   "outputs": [],
   "source": [
    "# Get paths for training and and validation data\n",
    "# Get the paths\n",
    "\n",
    "# Return file name from filepath\n",
    "\n",
    "train_paths = np.array([os.path.basename(i).split('.')[0] for i in glob.glob(f\"{DATA_TRAIN_DIRECTORY}/*.im\")])\n",
    "val_paths = np.array([os.path.basename(i).split('.')[0] for i in glob.glob(f\"{DATA_VALID_DIRECTORY}/*.im\")])"
   ]
  },
  {
   "cell_type": "code",
   "execution_count": 10,
   "metadata": {},
   "outputs": [],
   "source": [
    "# Set transforms\n",
    "\n",
    "if hyperparams['transforms'] == \"True\":\n",
    "    # Let's try a horizontal flip transform\n",
    "    transform = transforms.functional.hflip\n",
    "else:\n",
    "    transform = None"
   ]
  },
  {
   "cell_type": "code",
   "execution_count": 42,
   "metadata": {},
   "outputs": [],
   "source": [
    "# Define PyTorch datasets and dataloader\n",
    "\n",
    "# Define datasets\n",
    "train_dataset = KneeSegDataset3D(train_paths, DATA_DIRECTORY, transform=transform)\n",
    "val_dataset = KneeSegDataset3D(val_paths, DATA_DIRECTORY, split='valid')\n",
    "\n",
    "# Define dataloaders\n",
    "train_loader = DataLoader(train_dataset, batch_size=int(hyperparams['batch_size']), num_workers = 1, shuffle=True)\n",
    "val_loader = DataLoader(val_dataset, batch_size=2, num_workers = 1, shuffle=False)"
   ]
  },
  {
   "cell_type": "code",
   "execution_count": 68,
   "metadata": {},
   "outputs": [],
   "source": [
    "a = iter(train_loader)"
   ]
  },
  {
   "cell_type": "code",
   "execution_count": 69,
   "metadata": {},
   "outputs": [],
   "source": [
    "test = next(a)"
   ]
  },
  {
   "cell_type": "code",
   "execution_count": 70,
   "metadata": {},
   "outputs": [
    {
     "data": {
      "text/plain": [
       "torch.Size([4, 1, 200, 256, 160])"
      ]
     },
     "execution_count": 70,
     "metadata": {},
     "output_type": "execute_result"
    }
   ],
   "source": [
    "test[0].shape"
   ]
  },
  {
   "cell_type": "code",
   "execution_count": 71,
   "metadata": {},
   "outputs": [],
   "source": [
    "# Create model\n",
    "model = UNet3D(1, 1, 16)"
   ]
  },
  {
   "cell_type": "code",
   "execution_count": 73,
   "metadata": {},
   "outputs": [],
   "source": [
    "# Specifiy criterion and optimiser\n",
    "\n",
    "criterion = bce_dice_loss\n",
    "l_rate = hyperparams['l_rate']\n",
    "optimizer = optim.Adam(model.parameters(), lr=l_rate)"
   ]
  },
  {
   "cell_type": "code",
   "execution_count": 79,
   "metadata": {},
   "outputs": [],
   "source": [
    "# How long to train for?\n",
    "num_epochs = int(hyperparams['num_epochs'])"
   ]
  },
  {
   "cell_type": "code",
   "execution_count": 80,
   "metadata": {},
   "outputs": [],
   "source": [
    "# Threshold for predicted segmentation mask\n",
    "threshold = hyperparams['threshold']\n"
   ]
  }
 ],
 "metadata": {
  "kernelspec": {
   "display_name": "pred-knee-replacement-oai",
   "language": "python",
   "name": "python3"
  },
  "language_info": {
   "codemirror_mode": {
    "name": "ipython",
    "version": 3
   },
   "file_extension": ".py",
   "mimetype": "text/x-python",
   "name": "python",
   "nbconvert_exporter": "python",
   "pygments_lexer": "ipython3",
   "version": "3.12.3"
  }
 },
 "nbformat": 4,
 "nbformat_minor": 2
}
